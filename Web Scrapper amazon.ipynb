{
 "cells": [
  {
   "cell_type": "code",
   "execution_count": 3,
   "id": "8fc414bb-9f21-4c37-b5ec-23a7454646b3",
   "metadata": {},
   "outputs": [
    {
     "name": "stdout",
     "output_type": "stream",
     "text": [
      "No more pages or next button not found.\n",
      "Saved 100 reviews to amazon_reviews.csv\n"
     ]
    }
   ],
   "source": [
    "from selenium import webdriver\n",
    "from selenium.webdriver.chrome.service import Service\n",
    "from selenium.webdriver.common.by import By\n",
    "from selenium.webdriver.chrome.options import Options\n",
    "import pandas as pd\n",
    "import time\n",
    "\n",
    "def get_reviews(product_url):\n",
    "    # Set up Chrome options\n",
    "    chrome_options = Options()\n",
    "    chrome_options.add_argument(\"--headless\")  \n",
    "    chrome_options.add_argument(\"--no-sandbox\")\n",
    "    chrome_options.add_argument(\"--disable-dev-shm-usage\")\n",
    "\n",
    "    # Initialize the WebDriver\n",
    "    driver = webdriver.Chrome(options=chrome_options)\n",
    "    driver.get(product_url)\n",
    "    time.sleep(3)  \n",
    "\n",
    "    reviews = []\n",
    "\n",
    "    try:\n",
    "        # Click on the \"See all reviews\" link\n",
    "        see_all_reviews_link = driver.find_element(By.XPATH, '//a[contains(@data-hook, \"see-all-reviews-link-foot\")]')\n",
    "        see_all_reviews_link.click()\n",
    "        time.sleep(3)  # Let the page load\n",
    "\n",
    "        # Scrape multiple pages of reviews\n",
    "        while True:\n",
    "            # Get review elements\n",
    "            review_blocks = driver.find_elements(By.XPATH, '//div[@data-hook=\"review\"]')\n",
    "            \n",
    "            for review in review_blocks:\n",
    "                try:\n",
    "                    title = review.find_element(By.XPATH, './/a[@data-hook=\"review-title\"]').text.strip()\n",
    "                    rating = review.find_element(By.XPATH, './/i[@data-hook=\"review-star-rating\"]').text.strip()\n",
    "                    body = review.find_element(By.XPATH, './/span[@data-hook=\"review-body\"]').text.strip()\n",
    "                    date = review.find_element(By.XPATH, './/span[@data-hook=\"review-date\"]').text.strip()\n",
    "                    reviews.append({\n",
    "                        'title': title,\n",
    "                        'rating': rating,\n",
    "                        'body': body,\n",
    "                        'date': date\n",
    "                    })\n",
    "                except Exception as e:\n",
    "                    print(f\"Error parsing review: {e}\")\n",
    "                    continue\n",
    "            \n",
    "            # Check for next page button\n",
    "            try:\n",
    "                next_button = driver.find_element(By.XPATH, '//li[@class=\"a-last\"]/a')\n",
    "                next_button.click()\n",
    "                time.sleep(3)  # Let the next page load\n",
    "            except:\n",
    "                print(\"No more pages or next button not found.\")\n",
    "                break\n",
    "\n",
    "    finally:\n",
    "        driver.quit()\n",
    "\n",
    "    return reviews\n",
    "\n",
    "def save_reviews_to_csv(reviews, filename):\n",
    "    df = pd.DataFrame(reviews)\n",
    "    df.to_csv(filename, index=False)\n",
    "    print(f\"Saved {len(reviews)} reviews to {filename}\")\n",
    "\n",
    "if __name__ == \"__main__\":\n",
    "    product_url = 'https://www.amazon.in/Samsung-Galaxy-Flip5-Cream-Storage/dp/B0CB6BMFJR/ref=sr_1_1?crid=1M1XW9CK9Y8E8&dib=eyJ2IjoiMSJ9.CkkN4-k-hMcowouJlQNYg4SLOtX4l0MBgOSgZpzcZeWbEiLqJD-6PU3u7Nx_LugMYRVYGf66kkSG0zkNfzxHn11pnNx4PtfPaevPFkTaQH0FUl3lax5nFuNYcOL0SsjgJDkrWmrSFKfOrpz0m5JorB9EKHP_6pDD7dggQNsj5vgec8PUOgL4AEiu8YBLnxRghI7VKf8-LoGVnC8vIGx6A7xhvCEVqNX1zH9LAULrQQw.x7MuOshwuS_uhWmG9vzNaYkB2t0ERcAZW42ubBquCzM&dib_tag=se&keywords=zflip5%2Breview&qid=1716790683&sprefix=zflip5%2Breview%2Caps%2C224&sr=8-1&th=1#customerReviews'\n",
    "    reviews = get_reviews(product_url)\n",
    "    if reviews:\n",
    "        save_reviews_to_csv(reviews, 'amazon_reviews.csv')\n",
    "    else:\n",
    "        print(\"No reviews found or failed to scrape reviews.\")\n"
   ]
  },
  {
   "cell_type": "code",
   "execution_count": null,
   "id": "10acb368-793d-4021-b12a-36ded5274d93",
   "metadata": {},
   "outputs": [],
   "source": []
  }
 ],
 "metadata": {
  "kernelspec": {
   "display_name": "Python 3 (ipykernel)",
   "language": "python",
   "name": "python3"
  },
  "language_info": {
   "codemirror_mode": {
    "name": "ipython",
    "version": 3
   },
   "file_extension": ".py",
   "mimetype": "text/x-python",
   "name": "python",
   "nbconvert_exporter": "python",
   "pygments_lexer": "ipython3",
   "version": "3.12.3"
  }
 },
 "nbformat": 4,
 "nbformat_minor": 5
}
